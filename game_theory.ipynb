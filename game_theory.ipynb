{
 "cells": [
  {
   "cell_type": "code",
   "execution_count": 15,
   "metadata": {
    "collapsed": true
   },
   "outputs": [],
   "source": [
    "import pandas as pd\n",
    "import numpy as np\n",
    "from collections import namedtuple"
   ]
  },
  {
   "cell_type": "markdown",
   "metadata": {},
   "source": [
    "## Game Theory\n",
    "\n",
    "Topics so far:\n",
    "\n",
    "- Prisoner's Dilemma\n",
    "- Self-interest\n",
    "- Constant sum and zero sum games"
   ]
  },
  {
   "cell_type": "markdown",
   "metadata": {},
   "source": [
    "The most popular paradigm in game theory is the prisoner's dilemma, the principle 'game' used to analyze anarchic international relations.\n",
    "\n",
    "_Strict dominance_ is the main theme of this paradigm: a strategy x strictly dominates strategy y for a player if startegy x provides a greater payoff for that player than strategy y regardless of what the other players do."
   ]
  },
  {
   "cell_type": "code",
   "execution_count": 20,
   "metadata": {},
   "outputs": [],
   "source": [
    "Payout = namedtuple('Payout', ('player_1', 'player_2'))\n",
    "\n",
    "first = np.array([None, 'Quiet', 'Confess'])\n",
    "first.reshape(3, 1)\n",
    "second = np.array(['Quiet', '(-1, -1)', '(-12, 0)'])\n",
    "second.reshape(3, 1)\n",
    "third = np.array(['Confess', '(0, -12)', '(-8, -8)'])"
   ]
  },
  {
   "cell_type": "code",
   "execution_count": 23,
   "metadata": {},
   "outputs": [
    {
     "data": {
      "text/html": [
       "<div>\n",
       "<style>\n",
       "    .dataframe thead tr:only-child th {\n",
       "        text-align: right;\n",
       "    }\n",
       "\n",
       "    .dataframe thead th {\n",
       "        text-align: left;\n",
       "    }\n",
       "\n",
       "    .dataframe tbody tr th {\n",
       "        vertical-align: top;\n",
       "    }\n",
       "</style>\n",
       "<table border=\"1\" class=\"dataframe\">\n",
       "  <thead>\n",
       "    <tr style=\"text-align: right;\">\n",
       "      <th></th>\n",
       "      <th>0</th>\n",
       "      <th>1</th>\n",
       "      <th>2</th>\n",
       "    </tr>\n",
       "  </thead>\n",
       "  <tbody>\n",
       "    <tr>\n",
       "      <th>0</th>\n",
       "      <td>None</td>\n",
       "      <td>Quiet</td>\n",
       "      <td>Confess</td>\n",
       "    </tr>\n",
       "    <tr>\n",
       "      <th>1</th>\n",
       "      <td>Quiet</td>\n",
       "      <td>(-1, -1)</td>\n",
       "      <td>(-12, 0)</td>\n",
       "    </tr>\n",
       "    <tr>\n",
       "      <th>2</th>\n",
       "      <td>Confess</td>\n",
       "      <td>(0, -12)</td>\n",
       "      <td>(-8, -8)</td>\n",
       "    </tr>\n",
       "  </tbody>\n",
       "</table>\n",
       "</div>"
      ],
      "text/plain": [
       "         0         1         2\n",
       "0     None     Quiet   Confess\n",
       "1    Quiet  (-1, -1)  (-12, 0)\n",
       "2  Confess  (0, -12)  (-8, -8)"
      ]
     },
     "execution_count": 23,
     "metadata": {},
     "output_type": "execute_result"
    }
   ],
   "source": [
    "matrix = pd.DataFrame(np.array([first, second, third]))\n",
    "matrix"
   ]
  },
  {
   "cell_type": "markdown",
   "metadata": {},
   "source": [
    "Player 1's choices are the rows, and player 2's choices are the columns. Additionally, in the tuples, player 1's payout is index 0 and player 2's payout is index 1.\n",
    "\n",
    "We can take this approach:\n",
    "\n",
    "_Given that player 2 remains quiet, what should player 1 do?_\n",
    "Well, looking at the first number of each, he should confess. Next...\n",
    "\n",
    "_Given that player 2 confesses, what should player 1 do?_\n",
    "Still looking at the first number, he should still confess! \n",
    "\n",
    "Looking at player 2, the same rules apply. Both players, _being self-interested and desiring to maximize their payout (in this case reduce jail-time)_, should confess. This does not take into account relationships and cooperation. The above assumptions are central to the theory."
   ]
  },
  {
   "cell_type": "code",
   "execution_count": null,
   "metadata": {
    "collapsed": true
   },
   "outputs": [],
   "source": []
  }
 ],
 "metadata": {
  "kernelspec": {
   "display_name": "Python 3",
   "language": "python",
   "name": "python3"
  },
  "language_info": {
   "codemirror_mode": {
    "name": "ipython",
    "version": 3
   },
   "file_extension": ".py",
   "mimetype": "text/x-python",
   "name": "python",
   "nbconvert_exporter": "python",
   "pygments_lexer": "ipython3",
   "version": "3.6.3"
  }
 },
 "nbformat": 4,
 "nbformat_minor": 2
}
