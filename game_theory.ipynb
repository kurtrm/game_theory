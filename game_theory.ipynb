{
 "cells": [
  {
   "cell_type": "code",
   "execution_count": 2,
   "metadata": {
    "collapsed": true
   },
   "outputs": [],
   "source": [
    "import pandas as pd\n",
    "import numpy as np\n",
    "from collections import namedtuple"
   ]
  },
  {
   "cell_type": "markdown",
   "metadata": {},
   "source": [
    "## Game Theory\n",
    "\n",
    "Topics so far:\n",
    "\n",
    "- Prisoner's Dilemma\n",
    "- Self-interest\n",
    "- Constant sum and zero sum games"
   ]
  },
  {
   "cell_type": "markdown",
   "metadata": {},
   "source": [
    "The most popular paradigm in game theory is the prisoner's dilemma, the principle 'game' used to analyze anarchic international relations.\n",
    "\n",
    "_Strict dominance_ is the main theme of this paradigm: a strategy x strictly dominates strategy y for a player if startegy x provides a greater payoff for that player than strategy y regardless of what the other players do."
   ]
  },
  {
   "cell_type": "code",
   "execution_count": 3,
   "metadata": {
    "collapsed": true
   },
   "outputs": [],
   "source": [
    "Payout = namedtuple('Payout', ('player_1', 'player_2'))\n",
    "\n",
    "first = np.array([None, 'Quiet', 'Confess'])\n",
    "first.reshape(3, 1)\n",
    "second = np.array(['Quiet', '(-1, -1)', '(-12, 0)'])\n",
    "second.reshape(3, 1)\n",
    "third = np.array(['Confess', '(0, -12)', '(-8, -8)'])"
   ]
  },
  {
   "cell_type": "code",
   "execution_count": 4,
   "metadata": {},
   "outputs": [
    {
     "data": {
      "text/html": [
       "<div>\n",
       "<style>\n",
       "    .dataframe thead tr:only-child th {\n",
       "        text-align: right;\n",
       "    }\n",
       "\n",
       "    .dataframe thead th {\n",
       "        text-align: left;\n",
       "    }\n",
       "\n",
       "    .dataframe tbody tr th {\n",
       "        vertical-align: top;\n",
       "    }\n",
       "</style>\n",
       "<table border=\"1\" class=\"dataframe\">\n",
       "  <thead>\n",
       "    <tr style=\"text-align: right;\">\n",
       "      <th></th>\n",
       "      <th>0</th>\n",
       "      <th>1</th>\n",
       "      <th>2</th>\n",
       "    </tr>\n",
       "  </thead>\n",
       "  <tbody>\n",
       "    <tr>\n",
       "      <th>0</th>\n",
       "      <td>None</td>\n",
       "      <td>Quiet</td>\n",
       "      <td>Confess</td>\n",
       "    </tr>\n",
       "    <tr>\n",
       "      <th>1</th>\n",
       "      <td>Quiet</td>\n",
       "      <td>(-1, -1)</td>\n",
       "      <td>(-12, 0)</td>\n",
       "    </tr>\n",
       "    <tr>\n",
       "      <th>2</th>\n",
       "      <td>Confess</td>\n",
       "      <td>(0, -12)</td>\n",
       "      <td>(-8, -8)</td>\n",
       "    </tr>\n",
       "  </tbody>\n",
       "</table>\n",
       "</div>"
      ],
      "text/plain": [
       "         0         1         2\n",
       "0     None     Quiet   Confess\n",
       "1    Quiet  (-1, -1)  (-12, 0)\n",
       "2  Confess  (0, -12)  (-8, -8)"
      ]
     },
     "execution_count": 4,
     "metadata": {},
     "output_type": "execute_result"
    }
   ],
   "source": [
    "matrix = pd.DataFrame(np.array([first, second, third]))\n",
    "matrix"
   ]
  },
  {
   "cell_type": "markdown",
   "metadata": {},
   "source": [
    "Player 1's choices are the rows, and player 2's choices are the columns. Additionally, in the tuples, player 1's payout is index 0 and player 2's payout is index 1.\n",
    "\n",
    "We can take this approach:\n",
    "\n",
    "_Given that player 2 remains quiet, what should player 1 do?_\n",
    "Well, looking at the first number of each, he should confess. Next...\n",
    "\n",
    "_Given that player 2 confesses, what should player 1 do?_\n",
    "Still looking at the first number, he should still confess! \n",
    "\n",
    "Looking at player 2, the same rules apply. Both players, _being self-interested and desiring to maximize their payout (in this case reduce jail-time)_, should confess. This does not take into account relationships and cooperation. The above assumptions are central to the theory.\n",
    "\n",
    "An import concept here is that strict dominance is _irrational_. There is always a more rational, better strategy. For example, two companies are competitors in internet broadband. Both ultimately stand to gain more money if both make customers pay for internet fast lanes and web packages like cable. But if one chooses to offer a constant speed and unlimited access as an option, then one competitor will have an advantage over the other. They both _must_ offer these packages, even though they ultimately lose or gain nothing, lest the other player start taking some of their profits. It is more rational to open communications with the other player and collude to ensure neither player takes this action. _OR_ give customers no other option (eliminate competition in a focused area).\n",
    "\n",
    "This is actually interesting to think about. Our society thrives on the competition that capitalism generates which is an irrational strategy. As Peter Thiele mentioned in his book, companies _want_ monopoly, that way they can maximize their profits and are no longer forced to make irrational choices based on uncertainty in what another player may do. I'm going to generate my own example, using the repeal of net neutrality as fodder."
   ]
  },
  {
   "cell_type": "code",
   "execution_count": 16,
   "metadata": {},
   "outputs": [
    {
     "name": "stdout",
     "output_type": "stream",
     "text": [
      "Normal Competition (dollar amounts are not accurate and only to help aid in framing corporate decisions)\n"
     ]
    },
    {
     "data": {
      "text/html": [
       "<div>\n",
       "<style>\n",
       "    .dataframe thead tr:only-child th {\n",
       "        text-align: right;\n",
       "    }\n",
       "\n",
       "    .dataframe thead th {\n",
       "        text-align: left;\n",
       "    }\n",
       "\n",
       "    .dataframe tbody tr th {\n",
       "        vertical-align: top;\n",
       "    }\n",
       "</style>\n",
       "<table border=\"1\" class=\"dataframe\">\n",
       "  <thead>\n",
       "    <tr style=\"text-align: right;\">\n",
       "      <th></th>\n",
       "      <th>0</th>\n",
       "      <th>1</th>\n",
       "      <th>2</th>\n",
       "    </tr>\n",
       "  </thead>\n",
       "  <tbody>\n",
       "    <tr>\n",
       "      <th>0</th>\n",
       "      <td>nan</td>\n",
       "      <td>Fast Lanes</td>\n",
       "      <td>Open Internet</td>\n",
       "    </tr>\n",
       "    <tr>\n",
       "      <th>1</th>\n",
       "      <td>Fast Lanes</td>\n",
       "      <td>(\\$10M, \\$10M)</td>\n",
       "      <td>(-\\$20M, \\$20M)</td>\n",
       "    </tr>\n",
       "    <tr>\n",
       "      <th>2</th>\n",
       "      <td>Open Internet</td>\n",
       "      <td>(\\$20M, -\\$20M)</td>\n",
       "      <td>$\\textbf{\\$0M}, \\$\\textbf{0M}$)</td>\n",
       "    </tr>\n",
       "  </tbody>\n",
       "</table>\n",
       "</div>"
      ],
      "text/plain": [
       "               0                1                                2\n",
       "0            nan       Fast Lanes                    Open Internet\n",
       "1     Fast Lanes   (\\$10M, \\$10M)                  (-\\$20M, \\$20M)\n",
       "2  Open Internet  (\\$20M, -\\$20M)  $\\textbf{\\$0M}, \\$\\textbf{0M}$)"
      ]
     },
     "execution_count": 16,
     "metadata": {},
     "output_type": "execute_result"
    }
   ],
   "source": [
    "Result = namedtuple('Result', ('time_warner', 'comcast'))\n",
    "\n",
    "column_header = np.array([np.nan, 'Fast Lanes', 'Open Internet'])\n",
    "column_header.reshape(3, 1)\n",
    "row_one = np.array(['Fast Lanes', '(\\$10M, \\$10M)', '(-\\$20M, \\$20M)'])\n",
    "row_one.reshape(3, 1)\n",
    "row_two = np.array(['Open Internet', '(\\$20M, -\\$20M)', '$\\textbf{\\$0M}, \\$\\textbf{0M}$)'])\n",
    "\n",
    "internet_matrix = pd.DataFrame(np.array([column_header, row_one, row_two]))\n",
    "\n",
    "print(\"Normal Competition (dollar amounts are not accurate and only to help aid in framing corporate decisions)\")\n",
    "internet_matrix"
   ]
  },
  {
   "cell_type": "markdown",
   "metadata": {},
   "source": [
    "As we can see, choosing an open internet strategy is logical for both players. If either choose fast lanes, the other can't be sure their opponent will also choose fast lanes, thus taking a large risk that they will be at a disadvantage.\n",
    "\n",
    "Now this changes if the players aren't in direct competition with each other:"
   ]
  },
  {
   "cell_type": "code",
   "execution_count": 24,
   "metadata": {},
   "outputs": [
    {
     "name": "stdout",
     "output_type": "stream",
     "text": [
      "Monopolistic Choices (dollar amounts are not accurate and only to help aid in framing corporate decisions)\n"
     ]
    },
    {
     "data": {
      "text/html": [
       "<div>\n",
       "<style>\n",
       "    .dataframe thead tr:only-child th {\n",
       "        text-align: right;\n",
       "    }\n",
       "\n",
       "    .dataframe thead th {\n",
       "        text-align: left;\n",
       "    }\n",
       "\n",
       "    .dataframe tbody tr th {\n",
       "        vertical-align: top;\n",
       "    }\n",
       "</style>\n",
       "<table border=\"1\" class=\"dataframe\">\n",
       "  <thead>\n",
       "    <tr style=\"text-align: right;\">\n",
       "      <th></th>\n",
       "      <th>0</th>\n",
       "      <th>1</th>\n",
       "      <th>2</th>\n",
       "    </tr>\n",
       "  </thead>\n",
       "  <tbody>\n",
       "    <tr>\n",
       "      <th>0</th>\n",
       "      <td>nan</td>\n",
       "      <td>Fast Lanes</td>\n",
       "      <td>Open Internet</td>\n",
       "    </tr>\n",
       "    <tr>\n",
       "      <th>1</th>\n",
       "      <td>Fast Lanes</td>\n",
       "      <td>($\\textbf{\\$10M}, \\textbf{\\$10M}$)</td>\n",
       "      <td>(-\\$20M, \\$20M)</td>\n",
       "    </tr>\n",
       "    <tr>\n",
       "      <th>2</th>\n",
       "      <td>Open Internet</td>\n",
       "      <td>(\\$20M, -\\$20M)</td>\n",
       "      <td>\\$0M, \\$0M)</td>\n",
       "    </tr>\n",
       "  </tbody>\n",
       "</table>\n",
       "</div>"
      ],
      "text/plain": [
       "               0                                   1                2\n",
       "0            nan                          Fast Lanes    Open Internet\n",
       "1     Fast Lanes  ($\\textbf{\\$10M}, \\textbf{\\$10M}$)  (-\\$20M, \\$20M)\n",
       "2  Open Internet                     (\\$20M, -\\$20M)      \\$0M, \\$0M)"
      ]
     },
     "execution_count": 24,
     "metadata": {},
     "output_type": "execute_result"
    }
   ],
   "source": [
    "non_column_header = np.array([np.nan, 'Fast Lanes', 'Open Internet'])\n",
    "non_column_header.reshape(3, 1)\n",
    "non_row_one = np.array(['Fast Lanes', '($\\textbf{\\$10M}, \\textbf{\\$10M}$)', '(-\\$20M, \\$20M)'])\n",
    "non_row_one.reshape(3, 1)\n",
    "non_row_two = np.array(['Open Internet', '(\\$20M, -\\$20M)', '\\$0M, \\$0M)'])\n",
    "\n",
    "non_internet_matrix = pd.DataFrame(np.array([non_column_header, non_row_one, non_row_two]))\n",
    "\n",
    "print(\"Monopolistic Choices (dollar amounts are not accurate and only to help aid in framing corporate decisions)\")\n",
    "non_internet_matrix"
   ]
  },
  {
   "cell_type": "markdown",
   "metadata": {},
   "source": [
    "The best way to frame this matrix is to think about two companies that are in the same market, but each has a regional monopoly. For example, let's say Comcast is the only internet service provider in Fremont, and Time Warner is the only internet service provider in Ballard. Now that they are no longer in direct competition __the only logical choice is fast lanes__. Any choice having to do with open internet was only considered when dealing with another player. (Even though the matrix says an opponent will gain \\$20M with open internet, this was only when there was another competitor to gain customers from). As we can see, the remaining choices after disqualifying row 2 column 1 and row 1 column 2, is fast lanes or open internet, and the companies will earn more money if they institute fast lanes. What's frustrating is this becomes _rational_ choice for each player, but nets zero gain for the consumer. We praise \"market forces\" for all the good it brings, but we must force players to continue to make _irrational_ decisions in order for society to benefit."
   ]
  },
  {
   "cell_type": "code",
   "execution_count": null,
   "metadata": {
    "collapsed": true
   },
   "outputs": [],
   "source": []
  }
 ],
 "metadata": {
  "kernelspec": {
   "display_name": "Python 3",
   "language": "python",
   "name": "python3"
  },
  "language_info": {
   "codemirror_mode": {
    "name": "ipython",
    "version": 3
   },
   "file_extension": ".py",
   "mimetype": "text/x-python",
   "name": "python",
   "nbconvert_exporter": "python",
   "pygments_lexer": "ipython3",
   "version": "3.6.3"
  }
 },
 "nbformat": 4,
 "nbformat_minor": 2
}
